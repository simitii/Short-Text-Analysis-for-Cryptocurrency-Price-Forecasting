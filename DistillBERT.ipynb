{
 "cells": [
  {
   "cell_type": "code",
   "execution_count": 1,
   "id": "d2e79fec",
   "metadata": {},
   "outputs": [
    {
     "name": "stderr",
     "output_type": "stream",
     "text": [
      "2022-05-31 14:18:51.133852: I tensorflow/core/util/util.cc:169] oneDNN custom operations are on. You may see slightly different numerical results due to floating-point round-off errors from different computation orders. To turn them off, set the environment variable `TF_ENABLE_ONEDNN_OPTS=0`.\n"
     ]
    }
   ],
   "source": [
    "from transformers import DistilBertTokenizer, DistilBertForSequenceClassification\n",
    "import torch\n",
    "torch.manual_seed(1)\n",
    "device = \"cuda:0\" if torch.cuda.is_available() else \"cpu\"\n",
    "\n",
    "tokenizer = DistilBertTokenizer.from_pretrained('distilbert-base-uncased-finetuned-sst-2-english')\n",
    "model = DistilBertForSequenceClassification.from_pretrained('distilbert-base-uncased-finetuned-sst-2-english').to(device)"
   ]
  },
  {
   "cell_type": "code",
   "execution_count": 2,
   "id": "f417ea83",
   "metadata": {},
   "outputs": [
    {
     "data": {
      "text/plain": [
       "'cuda:0'"
      ]
     },
     "execution_count": 2,
     "metadata": {},
     "output_type": "execute_result"
    }
   ],
   "source": [
    "device"
   ]
  },
  {
   "cell_type": "code",
   "execution_count": 3,
   "id": "e62bdd9a",
   "metadata": {},
   "outputs": [
    {
     "data": {
      "text/plain": [
       "SequenceClassifierOutput(loss=None, logits=tensor([[ 4.1495, -3.4740],\n",
       "        [-4.3000,  4.6369],\n",
       "        [ 3.1623, -2.6371],\n",
       "        [ 4.3894, -3.5251]], device='cuda:0', grad_fn=<AddmmBackward0>), hidden_states=None, attentions=None)"
      ]
     },
     "execution_count": 3,
     "metadata": {},
     "output_type": "execute_result"
    }
   ],
   "source": [
    "sentences = [\"there is a shortage of capital, and we need extra financing\",  \n",
    "             \"growth is strong and we have plenty of liquidity\", \n",
    "             \"there are doubts about our finances\", \n",
    "             \"profits are flat\"]\n",
    "\n",
    "inputs = tokenizer(sentences, return_tensors=\"pt\", padding=True).to(device)\n",
    "model(**inputs)"
   ]
  },
  {
   "cell_type": "code",
   "execution_count": 4,
   "id": "a7b16aa3",
   "metadata": {},
   "outputs": [],
   "source": [
    "import pickle\n",
    "\n",
    "with open('CrytoNewsData.pickle', 'rb') as file:\n",
    "    data = pickle.load(file)"
   ]
  },
  {
   "cell_type": "code",
   "execution_count": 5,
   "id": "61543427",
   "metadata": {},
   "outputs": [
    {
     "data": {
      "application/vnd.jupyter.widget-view+json": {
       "model_id": "2d7749f4ce5648fbacf2881ae70d7590",
       "version_major": 2,
       "version_minor": 0
      },
      "text/plain": [
       "  0%|          | 0/79449 [00:00<?, ?it/s]"
      ]
     },
     "metadata": {},
     "output_type": "display_data"
    }
   ],
   "source": [
    "from tqdm.auto import tqdm\n",
    "import numpy as np\n",
    "\n",
    "sentences = []\n",
    "labels = []\n",
    "#price_percents = []\n",
    "\n",
    "before_volumes = []\n",
    "\n",
    "for i in tqdm(range(len(data))):\n",
    "    before_percent = 100 * (np.max(data[i]['prices']['before']) - np.min(data[i]['prices']['before'])) / np.min(data[i]['prices']['before'])\n",
    "    before_volume = np.max(data[i]['volumes']['before']) / np.mean(data[i]['volumes']['before'])\n",
    "    if before_percent < 5 and before_volume < 5 and len(data[i]['text']) < 4000:\n",
    "        before_volumes.append(before_volume)\n",
    "        first_increase = np.argmax(np.array(data[i]['prices']['after']) >= 1.01*data[i]['prices']['newstime'])\n",
    "        if first_increase == 0:\n",
    "            first_increase = float('inf')\n",
    "            \n",
    "        first_decrease = np.argmax(np.array(data[i]['prices']['after']) <= 0.99*data[i]['prices']['newstime'])\n",
    "        if first_decrease == 0:\n",
    "            first_decrease = float('inf')\n",
    "\n",
    "        if first_increase < first_decrease or (first_increase == first_decrease == float('inf') and data[i]['prices']['after'][-1] > data[i]['prices']['newstime']):\n",
    "            label = 1 #'Positive'\n",
    "        else:\n",
    "            label = 0 #'Negative'\n",
    "        \n",
    "        news = data[i]['text']\n",
    "        \n",
    "        sentences.append(news)\n",
    "        labels.append(label)\n",
    "        #price_percents.append(first_increase)"
   ]
  },
  {
   "cell_type": "code",
   "execution_count": 6,
   "id": "390f9345",
   "metadata": {},
   "outputs": [
    {
     "data": {
      "text/plain": [
       "'According to the Galaxy Digital CEO, institutions have a greater opportunity to buy Bitcoin currently in circulation, driving up the price.'"
      ]
     },
     "execution_count": 6,
     "metadata": {},
     "output_type": "execute_result"
    }
   ],
   "source": [
    "sentences[2]"
   ]
  },
  {
   "cell_type": "code",
   "execution_count": 7,
   "id": "75becc5a",
   "metadata": {},
   "outputs": [
    {
     "data": {
      "text/plain": [
       "0"
      ]
     },
     "execution_count": 7,
     "metadata": {},
     "output_type": "execute_result"
    }
   ],
   "source": [
    "labels[2]"
   ]
  },
  {
   "cell_type": "code",
   "execution_count": 8,
   "id": "341cd773",
   "metadata": {},
   "outputs": [
    {
     "data": {
      "text/plain": [
       "(array([1302.,    0.,    0.,    0.,    0.,    0.,    0.,    0.,    0.,\n",
       "        1490.]),\n",
       " array([0. , 0.1, 0.2, 0.3, 0.4, 0.5, 0.6, 0.7, 0.8, 0.9, 1. ]),\n",
       " <BarContainer object of 10 artists>)"
      ]
     },
     "execution_count": 8,
     "metadata": {},
     "output_type": "execute_result"
    },
    {
     "data": {
      "image/png": "[encoded data removed]",
      "text/plain": [
       "<Figure size 432x288 with 1 Axes>"
      ]
     },
     "metadata": {
      "needs_background": "light"
     },
     "output_type": "display_data"
    }
   ],
   "source": [
    "import matplotlib.pyplot as plt\n",
    "\n",
    "plt.hist(labels)"
   ]
  },
  {
   "cell_type": "code",
   "execution_count": 9,
   "id": "b7ff65ae",
   "metadata": {},
   "outputs": [],
   "source": [
    "from sklearn.model_selection import train_test_split\n",
    "\n",
    "X_train, X_test, y_train, y_test = train_test_split(sentences, labels, test_size=0.3, random_state=1)"
   ]
  },
  {
   "cell_type": "code",
   "execution_count": 10,
   "id": "200c1c1c",
   "metadata": {},
   "outputs": [
    {
     "data": {
      "text/plain": [
       "(1954, 838, 1954, 838)"
      ]
     },
     "execution_count": 10,
     "metadata": {},
     "output_type": "execute_result"
    }
   ],
   "source": [
    "len(X_train), len(X_test), len(y_train), len(y_test)"
   ]
  },
  {
   "cell_type": "code",
   "execution_count": 11,
   "id": "a4beb57b",
   "metadata": {},
   "outputs": [],
   "source": [
    "from torch.utils.data import Dataset, DataLoader\n",
    "\n",
    "class CrytoNewsDataset(Dataset):\n",
    "    def __init__(self, X, y):\n",
    "        self.X = X\n",
    "        self.y = y \n",
    "\n",
    "    def __len__(self):\n",
    "        return len(self.y)\n",
    "\n",
    "    def __getitem__(self, idx):\n",
    "        return self.X[idx], self.y[idx]"
   ]
  },
  {
   "cell_type": "code",
   "execution_count": 12,
   "id": "55aa3eab",
   "metadata": {},
   "outputs": [],
   "source": [
    "train_dataset = CrytoNewsDataset(X_train, y_train)\n",
    "test_dataset = CrytoNewsDataset(X_test, y_test)\n",
    "\n",
    "train_dataloader = DataLoader(train_dataset, batch_size=64, shuffle=True)\n",
    "test_dataloader = DataLoader(test_dataset, batch_size=64)"
   ]
  },
  {
   "cell_type": "code",
   "execution_count": 13,
   "id": "4499e927",
   "metadata": {},
   "outputs": [],
   "source": [
    "torch.manual_seed(1);"
   ]
  },
  {
   "cell_type": "code",
   "execution_count": 14,
   "id": "039aca87",
   "metadata": {
    "scrolled": true
   },
   "outputs": [],
   "source": [
    "from torch.optim import AdamW\n",
    "\n",
    "optimizer = AdamW(model.parameters(), lr=1e-5, weight_decay=10)"
   ]
  },
  {
   "cell_type": "code",
   "execution_count": 15,
   "id": "5247841e",
   "metadata": {},
   "outputs": [],
   "source": [
    "from transformers import get_scheduler\n",
    "\n",
    "num_epochs = 5\n",
    "num_training_steps = num_epochs * len(train_dataloader)\n",
    "lr_scheduler = get_scheduler(\n",
    "    name=\"linear\", optimizer=optimizer, num_warmup_steps=0, num_training_steps=num_training_steps\n",
    ")"
   ]
  },
  {
   "cell_type": "code",
   "execution_count": 16,
   "id": "aa8653cb",
   "metadata": {},
   "outputs": [],
   "source": [
    "class Average:\n",
    "    def __init__(self):\n",
    "        self.avg = 0\n",
    "        self.size = 0\n",
    "    \n",
    "    def update(self, value, size):\n",
    "        self.avg = (self.avg*self.size + value*size) / (self.size + size)\n",
    "        self.size += size\n",
    "    \n",
    "    def item(self):\n",
    "        return self.avg"
   ]
  },
  {
   "cell_type": "code",
   "execution_count": 17,
   "id": "c2bef8cc",
   "metadata": {},
   "outputs": [
    {
     "data": {
      "text/plain": [
       "array([1.06775956, 0.94032724])"
      ]
     },
     "execution_count": 17,
     "metadata": {},
     "output_type": "execute_result"
    }
   ],
   "source": [
    "from sklearn.utils.class_weight import compute_class_weight\n",
    "import numpy as np\n",
    "\n",
    "weight = compute_class_weight(class_weight='balanced', classes=np.unique(y_train), y=y_train)\n",
    "weight"
   ]
  },
  {
   "cell_type": "code",
   "execution_count": 18,
   "id": "93fed7ec",
   "metadata": {},
   "outputs": [
    {
     "data": {
      "application/vnd.jupyter.widget-view+json": {
       "model_id": "76bce06cf6cd4a4cae88477121c1c405",
       "version_major": 2,
       "version_minor": 0
      },
      "text/plain": [
       "  0%|          | 0/155 [00:00<?, ?it/s]"
      ]
     },
     "metadata": {},
     "output_type": "display_data"
    },
    {
     "name": "stdout",
     "output_type": "stream",
     "text": [
      "[EPOCH 0] Loss: 1.403, Acc: 0.501 Test Loss: 0.883, Test Acc: 0.529\n",
      "[EPOCH 1] Loss: 0.768, Acc: 0.539 Test Loss: 0.749, Test Acc: 0.531\n",
      "[EPOCH 2] Loss: 0.706, Acc: 0.534 Test Loss: 0.727, Test Acc: 0.532\n",
      "[EPOCH 3] Loss: 0.693, Acc: 0.550 Test Loss: 0.720, Test Acc: 0.532\n",
      "[EPOCH 4] Loss: 0.688, Acc: 0.563 Test Loss: 0.720, Test Acc: 0.539\n"
     ]
    }
   ],
   "source": [
    "from tqdm.auto import tqdm\n",
    "\n",
    "\n",
    "progress_bar = tqdm(range(num_training_steps))\n",
    "loss_func = torch.nn.CrossEntropyLoss(weight=torch.tensor(list(weight), dtype=torch.float32, device=device))\n",
    "model.train()\n",
    "losses = []\n",
    "accs = []\n",
    "test_losses = []\n",
    "test_accs = []\n",
    "\n",
    "for epoch in range(num_epochs):\n",
    "    loss_avg = Average()\n",
    "    acc_avg = Average()\n",
    "    model.train()\n",
    "    for X,y in train_dataloader:\n",
    "        X_token = tokenizer(X, return_tensors=\"pt\", padding=True).to(device)\n",
    "        y_pred = model(**X_token).logits\n",
    "        loss = loss_func(y_pred, y.to(device))\n",
    "        loss.backward()\n",
    "        optimizer.step()\n",
    "        lr_scheduler.step()\n",
    "        optimizer.zero_grad()\n",
    "        \n",
    "        with torch.no_grad():\n",
    "            acc = torch.sum(y_pred.argmax(axis=1) == y.to(device))\n",
    "            loss_avg.update(loss.item(), len(y))\n",
    "            acc_avg.update(acc.item()/len(y), len(y))\n",
    "\n",
    "        progress_bar.update(1)\n",
    "        progress_bar.set_description(f\"Loss: {loss_avg.item():.3f}, Acc: {acc_avg.item():.3f}\")\n",
    "    \n",
    "    test_loss_avg = Average()\n",
    "    test_acc_avg = Average()\n",
    "    model.eval()\n",
    "    with torch.no_grad():\n",
    "        for X,y in test_dataloader:\n",
    "            X_token = tokenizer(X, return_tensors=\"pt\", padding=True).to(device)\n",
    "            y_pred = model(**X_token).logits\n",
    "            loss = loss_func(y_pred, y.to(device))\n",
    "            acc = torch.sum(y_pred.argmax(axis=1) == y.to(device))\n",
    "            test_loss_avg.update(loss.item(), len(y))\n",
    "            test_acc_avg.update(acc.item()/len(y), len(y))\n",
    "\n",
    "    losses.append(loss_avg.item())\n",
    "    accs.append(acc_avg.item())\n",
    "    test_losses.append(test_loss_avg.item())\n",
    "    test_accs.append(test_acc_avg.item())\n",
    "    print(f\"[EPOCH {epoch}] Loss: {loss_avg.item():.3f}, Acc: {acc_avg.item():.3f} Test Loss: {test_loss_avg.item():.3f}, Test Acc: {test_acc_avg.item():.3f}\")"
   ]
  },
  {
   "cell_type": "code",
   "execution_count": 21,
   "id": "b5dd5c42",
   "metadata": {},
   "outputs": [],
   "source": [
    "predictions = []\n",
    "y_test = []\n",
    "\n",
    "model.eval()\n",
    "with torch.no_grad():\n",
    "    for X,y in test_dataloader:\n",
    "        X_token = tokenizer(X, return_tensors=\"pt\", padding=True).to(device)\n",
    "        y_pred = model(**X_token).logits\n",
    "        predictions += list(y_pred.argmax(axis=1).cpu().numpy())\n",
    "        y_test += list(y.cpu().numpy())"
   ]
  },
  {
   "cell_type": "code",
   "execution_count": 22,
   "id": "36599617",
   "metadata": {},
   "outputs": [
    {
     "name": "stdout",
     "output_type": "stream",
     "text": [
      "195 192 194 257\n",
      "0.5393794749403341\n",
      "              precision    recall  f1-score   support\n",
      "\n",
      "           0       0.50      0.50      0.50       387\n",
      "           1       0.57      0.57      0.57       451\n",
      "\n",
      "    accuracy                           0.54       838\n",
      "   macro avg       0.54      0.54      0.54       838\n",
      "weighted avg       0.54      0.54      0.54       838\n",
      "\n"
     ]
    }
   ],
   "source": [
    "from sklearn.metrics import classification_report,confusion_matrix,accuracy_score\n",
    "\n",
    "tn, fp, fn, tp = confusion_matrix(y_test,predictions).ravel()\n",
    "print(tn, fp, fn, tp)\n",
    "score = accuracy_score(y_test,predictions)\n",
    "print(score)\n",
    "report = classification_report(y_test,predictions)\n",
    "print(report)"
   ]
  },
  {
   "cell_type": "code",
   "execution_count": null,
   "id": "bca32f2e",
   "metadata": {},
   "outputs": [],
   "source": []
  }
 ],
 "metadata": {
  "kernelspec": {
   "display_name": "Python 3 (ipykernel)",
   "language": "python",
   "name": "python3"
  },
  "language_info": {
   "codemirror_mode": {
    "name": "ipython",
    "version": 3
   },
   "file_extension": ".py",
   "mimetype": "text/x-python",
   "name": "python",
   "nbconvert_exporter": "python",
   "pygments_lexer": "ipython3",
   "version": "3.7.13"
  }
 },
 "nbformat": 4,
 "nbformat_minor": 5
}
